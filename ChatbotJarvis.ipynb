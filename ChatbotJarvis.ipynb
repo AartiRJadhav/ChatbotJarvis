{
  "nbformat": 4,
  "nbformat_minor": 0,
  "metadata": {
    "colab": {
      "provenance": []
    },
    "kernelspec": {
      "name": "python3",
      "display_name": "Python 3"
    },
    "language_info": {
      "name": "python"
    }
  },
  "cells": [
    {
      "cell_type": "code",
      "execution_count": 6,
      "metadata": {
        "colab": {
          "base_uri": "https://localhost:8080/"
        },
        "id": "oQ5DYrAHnKTr",
        "outputId": "50abad0a-2080-4ebc-cd37-10dcfaa6b859"
      },
      "outputs": [
        {
          "output_type": "stream",
          "name": "stderr",
          "text": [
            "[nltk_data] Downloading package punkt to /root/nltk_data...\n",
            "[nltk_data]   Package punkt is already up-to-date!\n"
          ]
        }
      ],
      "source": [
        "import nltk\n",
        "nltk.download('punkt')\n",
        "from nltk.stem import PorterStemmer\n",
        "stemmer = PorterStemmer()\n",
        "\n",
        "import tensorflow as tf\n",
        "import numpy as np\n",
        "import random\n",
        "import json"
      ]
    },
    {
      "cell_type": "code",
      "source": [
        "from google.colab import files\n",
        "files.upload()"
      ],
      "metadata": {
        "colab": {
          "base_uri": "https://localhost:8080/",
          "height": 628
        },
        "id": "F-1tGw3CoA_a",
        "outputId": "ac2adbf1-8d19-48b3-d28e-8b3d2fe87a45"
      },
      "execution_count": 20,
      "outputs": [
        {
          "output_type": "display_data",
          "data": {
            "text/plain": [
              "<IPython.core.display.HTML object>"
            ],
            "text/html": [
              "\n",
              "     <input type=\"file\" id=\"files-299ab076-e120-4684-b1a9-0c049377660d\" name=\"files[]\" multiple disabled\n",
              "        style=\"border:none\" />\n",
              "     <output id=\"result-299ab076-e120-4684-b1a9-0c049377660d\">\n",
              "      Upload widget is only available when the cell has been executed in the\n",
              "      current browser session. Please rerun this cell to enable.\n",
              "      </output>\n",
              "      <script>// Copyright 2017 Google LLC\n",
              "//\n",
              "// Licensed under the Apache License, Version 2.0 (the \"License\");\n",
              "// you may not use this file except in compliance with the License.\n",
              "// You may obtain a copy of the License at\n",
              "//\n",
              "//      http://www.apache.org/licenses/LICENSE-2.0\n",
              "//\n",
              "// Unless required by applicable law or agreed to in writing, software\n",
              "// distributed under the License is distributed on an \"AS IS\" BASIS,\n",
              "// WITHOUT WARRANTIES OR CONDITIONS OF ANY KIND, either express or implied.\n",
              "// See the License for the specific language governing permissions and\n",
              "// limitations under the License.\n",
              "\n",
              "/**\n",
              " * @fileoverview Helpers for google.colab Python module.\n",
              " */\n",
              "(function(scope) {\n",
              "function span(text, styleAttributes = {}) {\n",
              "  const element = document.createElement('span');\n",
              "  element.textContent = text;\n",
              "  for (const key of Object.keys(styleAttributes)) {\n",
              "    element.style[key] = styleAttributes[key];\n",
              "  }\n",
              "  return element;\n",
              "}\n",
              "\n",
              "// Max number of bytes which will be uploaded at a time.\n",
              "const MAX_PAYLOAD_SIZE = 100 * 1024;\n",
              "\n",
              "function _uploadFiles(inputId, outputId) {\n",
              "  const steps = uploadFilesStep(inputId, outputId);\n",
              "  const outputElement = document.getElementById(outputId);\n",
              "  // Cache steps on the outputElement to make it available for the next call\n",
              "  // to uploadFilesContinue from Python.\n",
              "  outputElement.steps = steps;\n",
              "\n",
              "  return _uploadFilesContinue(outputId);\n",
              "}\n",
              "\n",
              "// This is roughly an async generator (not supported in the browser yet),\n",
              "// where there are multiple asynchronous steps and the Python side is going\n",
              "// to poll for completion of each step.\n",
              "// This uses a Promise to block the python side on completion of each step,\n",
              "// then passes the result of the previous step as the input to the next step.\n",
              "function _uploadFilesContinue(outputId) {\n",
              "  const outputElement = document.getElementById(outputId);\n",
              "  const steps = outputElement.steps;\n",
              "\n",
              "  const next = steps.next(outputElement.lastPromiseValue);\n",
              "  return Promise.resolve(next.value.promise).then((value) => {\n",
              "    // Cache the last promise value to make it available to the next\n",
              "    // step of the generator.\n",
              "    outputElement.lastPromiseValue = value;\n",
              "    return next.value.response;\n",
              "  });\n",
              "}\n",
              "\n",
              "/**\n",
              " * Generator function which is called between each async step of the upload\n",
              " * process.\n",
              " * @param {string} inputId Element ID of the input file picker element.\n",
              " * @param {string} outputId Element ID of the output display.\n",
              " * @return {!Iterable<!Object>} Iterable of next steps.\n",
              " */\n",
              "function* uploadFilesStep(inputId, outputId) {\n",
              "  const inputElement = document.getElementById(inputId);\n",
              "  inputElement.disabled = false;\n",
              "\n",
              "  const outputElement = document.getElementById(outputId);\n",
              "  outputElement.innerHTML = '';\n",
              "\n",
              "  const pickedPromise = new Promise((resolve) => {\n",
              "    inputElement.addEventListener('change', (e) => {\n",
              "      resolve(e.target.files);\n",
              "    });\n",
              "  });\n",
              "\n",
              "  const cancel = document.createElement('button');\n",
              "  inputElement.parentElement.appendChild(cancel);\n",
              "  cancel.textContent = 'Cancel upload';\n",
              "  const cancelPromise = new Promise((resolve) => {\n",
              "    cancel.onclick = () => {\n",
              "      resolve(null);\n",
              "    };\n",
              "  });\n",
              "\n",
              "  // Wait for the user to pick the files.\n",
              "  const files = yield {\n",
              "    promise: Promise.race([pickedPromise, cancelPromise]),\n",
              "    response: {\n",
              "      action: 'starting',\n",
              "    }\n",
              "  };\n",
              "\n",
              "  cancel.remove();\n",
              "\n",
              "  // Disable the input element since further picks are not allowed.\n",
              "  inputElement.disabled = true;\n",
              "\n",
              "  if (!files) {\n",
              "    return {\n",
              "      response: {\n",
              "        action: 'complete',\n",
              "      }\n",
              "    };\n",
              "  }\n",
              "\n",
              "  for (const file of files) {\n",
              "    const li = document.createElement('li');\n",
              "    li.append(span(file.name, {fontWeight: 'bold'}));\n",
              "    li.append(span(\n",
              "        `(${file.type || 'n/a'}) - ${file.size} bytes, ` +\n",
              "        `last modified: ${\n",
              "            file.lastModifiedDate ? file.lastModifiedDate.toLocaleDateString() :\n",
              "                                    'n/a'} - `));\n",
              "    const percent = span('0% done');\n",
              "    li.appendChild(percent);\n",
              "\n",
              "    outputElement.appendChild(li);\n",
              "\n",
              "    const fileDataPromise = new Promise((resolve) => {\n",
              "      const reader = new FileReader();\n",
              "      reader.onload = (e) => {\n",
              "        resolve(e.target.result);\n",
              "      };\n",
              "      reader.readAsArrayBuffer(file);\n",
              "    });\n",
              "    // Wait for the data to be ready.\n",
              "    let fileData = yield {\n",
              "      promise: fileDataPromise,\n",
              "      response: {\n",
              "        action: 'continue',\n",
              "      }\n",
              "    };\n",
              "\n",
              "    // Use a chunked sending to avoid message size limits. See b/62115660.\n",
              "    let position = 0;\n",
              "    do {\n",
              "      const length = Math.min(fileData.byteLength - position, MAX_PAYLOAD_SIZE);\n",
              "      const chunk = new Uint8Array(fileData, position, length);\n",
              "      position += length;\n",
              "\n",
              "      const base64 = btoa(String.fromCharCode.apply(null, chunk));\n",
              "      yield {\n",
              "        response: {\n",
              "          action: 'append',\n",
              "          file: file.name,\n",
              "          data: base64,\n",
              "        },\n",
              "      };\n",
              "\n",
              "      let percentDone = fileData.byteLength === 0 ?\n",
              "          100 :\n",
              "          Math.round((position / fileData.byteLength) * 100);\n",
              "      percent.textContent = `${percentDone}% done`;\n",
              "\n",
              "    } while (position < fileData.byteLength);\n",
              "  }\n",
              "\n",
              "  // All done.\n",
              "  yield {\n",
              "    response: {\n",
              "      action: 'complete',\n",
              "    }\n",
              "  };\n",
              "}\n",
              "\n",
              "scope.google = scope.google || {};\n",
              "scope.google.colab = scope.google.colab || {};\n",
              "scope.google.colab._files = {\n",
              "  _uploadFiles,\n",
              "  _uploadFilesContinue,\n",
              "};\n",
              "})(self);\n",
              "</script> "
            ]
          },
          "metadata": {}
        },
        {
          "output_type": "stream",
          "name": "stdout",
          "text": [
            "Saving intents3.json to intents3.json\n"
          ]
        },
        {
          "output_type": "execute_result",
          "data": {
            "text/plain": [
              "{'intents3.json': b'{\\r\\n        \"intents\": [\\r\\n                {\\r\\n                        \"tag\": \"greeting\",\\r\\n                        \"patterns\": [\\r\\n                                \"Hi\",\\r\\n                                \"How are you\",\\r\\n                                \"Is anyone there?\",\\r\\n                                \"Hello\",\\r\\n                                \"Good day\"\\r\\n                        ],\\r\\n                        \"responses\": [\\r\\n                                \"Hello, thanks for visiting\",\\r\\n                                \"Good to see you again\",\\r\\n                                \"Hi there, how can I help?\"\\r\\n                        ],\\r\\n                        \"context_set\": \"\"\\r\\n                },\\r\\n                {\\r\\n                        \"tag\": \"goodbye\",\\r\\n                        \"patterns\": [\\r\\n                                \"Bye\",\\r\\n                                \"See you later\",\\r\\n                                \"Goodbye\"\\r\\n                        ],\\r\\n                        \"responses\": [\\r\\n                                \"See you later, thanks for visiting\",\\r\\n                                \"Have a nice day\",\\r\\n                                \"Bye! Come back again soon.\"\\r\\n                        ]\\r\\n                },\\r\\n                {\\r\\n                        \"tag\": \"thanks\",\\r\\n                        \"patterns\": [\\r\\n                                \"Thanks\",\\r\\n                                \"Thank you\",\\r\\n                                \"That\\'s helpful\"\\r\\n                        ],\\r\\n                        \"responses\": [\\r\\n                                \"Happy to help!\",\\r\\n                                \"Any time!\",\\r\\n                                \"My pleasure\"\\r\\n                        ]\\r\\n                },\\r\\n                {\\r\\n                        \"tag\": \"chatbot\",\\r\\n                        \"patterns\": [\\r\\n                                \"Who built this chatbot?\",\\r\\n                                \"Tell me about Chatbot\",\\r\\n                                \"What is this chatbot name?\"\\r\\n                        ],\\r\\n                        \"responses\": [\\r\\n                                \"Hi, I am Jarvis designed by Aarti.\",\\r\\n                                \"Thanks for asking. I am designed by Aarti Jadhav.\",\\r\\n                                \"I am Jarvis.\"\\r\\n                        ]\\r\\n                },\\r\\n                {\\r\\n                        \"tag\": \"location\",\\r\\n                        \"patterns\": [\\r\\n                                \"What is your location?\",\\r\\n                                \"Where are you located?\",\\r\\n                                \"What is your address?\"\\r\\n                        ],\\r\\n                        \"responses\": [\\r\\n                                \"We are from World\\'s largest Democracy India.\",\\r\\n                                \"You can visit India to meet us\",\\r\\n                                \"Thans for your Interest. I live in India.\"\\r\\n                        ]\\r\\n                },\\r\\n                {\\r\\n                        \"tag\": \"connect\",\\r\\n                        \"patterns\": [\\r\\n                                \"Give me your social media accounts link\",\\r\\n                                \"Where can we connect\",\\r\\n                                \"How can i reach out to you?\",\\r\\n                                \"Is there any way we can connect\"\\r\\n                        ],\\r\\n                        \"responses\": [\\r\\n                                \"You can connect me on Linkedin \\\\n Linkedin - https://www.linkedin.com/in/aarti-jadhav-a55612207/\"\\r\\n                                \\r\\n                        ]\\r\\n                },\\r\\n                {\\r\\n                        \"tag\": \"movies\",\\r\\n                        \"patterns\": [\\r\\n                                \"Which is your favourite movie?\",\\r\\n                                \"Suggest me some movies\",\\r\\n                                \"Recommend movies\"\\r\\n                        ],\\r\\n                        \"responses\": [\\r\\n                                \"3 idiots\",\\r\\n                                \"Inception\",\\r\\n                                \"Intestiller\",\\r\\n                                \"Tenet\",\\r\\n                                \"Lord of the rings Triology\",\\r\\n                                \"Tanhaji the unsung worrier\",\\r\\n                                \"The summer I turned pretty\",\\r\\n                                \"Race\"\\r\\n                        ]\\r\\n                },\\r\\n                {\\r\\n                        \"tag\": \"about\",\\r\\n                        \"patterns\": [\\r\\n                                \"Who are you?\",\\r\\n                                \"Tell me about Yourself\",\\r\\n                                \"What is this?\"\\r\\n                        ],\\r\\n                        \"responses\": [\\r\\n                                \"Hi, I am Aarti. Nice to meet you. I made this chatbot Jarvis for fun and practice.\",\\r\\n                                \"Thanks for asking. I am Aarti Jadhav, coder by profession but ML enthusiast by passion.\"\\r\\n                        ]\\r\\n                }\\r\\n               \\r\\n        ]\\r\\n}'}"
            ]
          },
          "metadata": {},
          "execution_count": 20
        }
      ]
    },
    {
      "cell_type": "code",
      "source": [
        "with open ('intents3.json') as json_data:\n",
        "  intents3 = json.load(json_data)"
      ],
      "metadata": {
        "id": "_mAZAxwMoT8v"
      },
      "execution_count": 22,
      "outputs": []
    },
    {
      "cell_type": "code",
      "source": [
        "intents3"
      ],
      "metadata": {
        "colab": {
          "base_uri": "https://localhost:8080/"
        },
        "id": "DaB62AqKpTtL",
        "outputId": "805e108a-798b-4f4d-a363-a22faca2192d"
      },
      "execution_count": 23,
      "outputs": [
        {
          "output_type": "execute_result",
          "data": {
            "text/plain": [
              "{'intents': [{'tag': 'greeting',\n",
              "   'patterns': ['Hi', 'How are you', 'Is anyone there?', 'Hello', 'Good day'],\n",
              "   'responses': ['Hello, thanks for visiting',\n",
              "    'Good to see you again',\n",
              "    'Hi there, how can I help?'],\n",
              "   'context_set': ''},\n",
              "  {'tag': 'goodbye',\n",
              "   'patterns': ['Bye', 'See you later', 'Goodbye'],\n",
              "   'responses': ['See you later, thanks for visiting',\n",
              "    'Have a nice day',\n",
              "    'Bye! Come back again soon.']},\n",
              "  {'tag': 'thanks',\n",
              "   'patterns': ['Thanks', 'Thank you', \"That's helpful\"],\n",
              "   'responses': ['Happy to help!', 'Any time!', 'My pleasure']},\n",
              "  {'tag': 'chatbot',\n",
              "   'patterns': ['Who built this chatbot?',\n",
              "    'Tell me about Chatbot',\n",
              "    'What is this chatbot name?'],\n",
              "   'responses': ['Hi, I am Jarvis designed by Aarti.',\n",
              "    'Thanks for asking. I am designed by Aarti Jadhav.',\n",
              "    'I am Jarvis.']},\n",
              "  {'tag': 'location',\n",
              "   'patterns': ['What is your location?',\n",
              "    'Where are you located?',\n",
              "    'What is your address?'],\n",
              "   'responses': [\"We are from World's largest Democracy India.\",\n",
              "    'You can visit India to meet us',\n",
              "    'Thans for your Interest. I live in India.']},\n",
              "  {'tag': 'connect',\n",
              "   'patterns': ['Give me your social media accounts link',\n",
              "    'Where can we connect',\n",
              "    'How can i reach out to you?',\n",
              "    'Is there any way we can connect'],\n",
              "   'responses': ['You can connect me on Linkedin \\n Linkedin - https://www.linkedin.com/in/aarti-jadhav-a55612207/']},\n",
              "  {'tag': 'movies',\n",
              "   'patterns': ['Which is your favourite movie?',\n",
              "    'Suggest me some movies',\n",
              "    'Recommend movies'],\n",
              "   'responses': ['3 idiots',\n",
              "    'Inception',\n",
              "    'Intestiller',\n",
              "    'Tenet',\n",
              "    'Lord of the rings Triology',\n",
              "    'Tanhaji the unsung worrier',\n",
              "    'The summer I turned pretty',\n",
              "    'Race']},\n",
              "  {'tag': 'about',\n",
              "   'patterns': ['Who are you?', 'Tell me about Yourself', 'What is this?'],\n",
              "   'responses': ['Hi, I am Aarti. Nice to meet you. I made this chatbot Jarvis for fun and practice.',\n",
              "    'Thanks for asking. I am Aarti Jadhav, coder by profession but ML enthusiast by passion.']}]}"
            ]
          },
          "metadata": {},
          "execution_count": 23
        }
      ]
    },
    {
      "cell_type": "code",
      "source": [
        "words = []\n",
        "classes = []\n",
        "documents = []\n",
        "ignore = ['?']\n",
        "for intent in intents['intents']:\n",
        "  for pattern in intent['patterns']:\n",
        "    w = nltk.word_tokenize(pattern)\n",
        "    words.extend(w)\n",
        "    documents.append((w, intent['tag']))\n",
        "    if intent['tag'] not in classes:\n",
        "      classes.append(intent['tag'])\n"
      ],
      "metadata": {
        "id": "10ZMmiXPpj0C"
      },
      "execution_count": 24,
      "outputs": []
    },
    {
      "cell_type": "code",
      "source": [
        "words = [stemmer.stem(w.lower()) for w in words if w not in ignore]\n",
        "words = sorted(list(set(words)))\n",
        "classes = sorted(list(set(classes)))\n",
        "print (len(documents), \"documents\")\n",
        "print (len(classes), \"classes\", classes)\n",
        "print (len(words), \"unique stemmed words\", words)"
      ],
      "metadata": {
        "colab": {
          "base_uri": "https://localhost:8080/"
        },
        "id": "wGGLHJsUvccQ",
        "outputId": "e04ee32d-00ca-4847-8c71-ec75496b6767"
      },
      "execution_count": 25,
      "outputs": [
        {
          "output_type": "stream",
          "name": "stdout",
          "text": [
            "27 documents\n",
            "8 classes ['about', 'chatbot', 'connect', 'goodbye', 'greeting', 'location', 'movies', 'thanks']\n",
            "52 unique stemmed words [\"'s\", 'about', 'account', 'address', 'ani', 'anyon', 'are', 'built', 'bye', 'can', 'chatbot', 'connect', 'day', 'favourit', 'give', 'good', 'goodby', 'hello', 'help', 'hi', 'how', 'i', 'is', 'later', 'link', 'locat', 'me', 'media', 'movi', 'name', 'out', 'reach', 'recommend', 'see', 'social', 'some', 'suggest', 'tell', 'thank', 'that', 'there', 'thi', 'to', 'way', 'we', 'what', 'where', 'which', 'who', 'you', 'your', 'yourself']\n"
          ]
        }
      ]
    },
    {
      "cell_type": "code",
      "source": [
        "training = []\n",
        "output = []\n",
        "output_empty = [0] * len(classes)\n",
        "for doc in documents:\n",
        "  bag = []\n",
        "  pattern_words = doc[0]\n",
        "  pattern_words = [stemmer.stem(word.lower()) for word in pattern_words]\n",
        "  for w in words:\n",
        "    bag.append(1) if w in pattern_words else bag.append(0)\n",
        "    output_row = list(output_empty)\n",
        "    output_row[classes.index(doc[1])] = 1\n",
        "    training.append([bag, output_row])\n",
        "random.shuffle(training)\n",
        "training = np.array(training)\n",
        "train_x = list(training[:,0])\n",
        "train_y = list(training[:,1])"
      ],
      "metadata": {
        "colab": {
          "base_uri": "https://localhost:8080/"
        },
        "id": "4qTpjHO3yTLF",
        "outputId": "e5b607ab-0eba-4f9a-86af-1c7e0de31440"
      },
      "execution_count": 28,
      "outputs": [
        {
          "output_type": "stream",
          "name": "stderr",
          "text": [
            "<ipython-input-28-9f76819882e5>:14: VisibleDeprecationWarning: Creating an ndarray from ragged nested sequences (which is a list-or-tuple of lists-or-tuples-or ndarrays with different lengths or shapes) is deprecated. If you meant to do this, you must specify 'dtype=object' when creating the ndarray.\n",
            "  training = np.array(training)\n"
          ]
        }
      ]
    },
    {
      "cell_type": "code",
      "source": [
        "model = tf.keras.Sequential()\n",
        "model.add(tf.keras.layers.Dense(10,input_shape=(len(train_x[0]),)))\n",
        "model.add(tf.keras.layers.Dense(10))\n",
        "model.add(tf.keras.layers.Dense(len(train_y[0]), activation='softmax'))\n",
        "model.compile(tf.keras.optimizers.Adam(), loss='categorical_crossentropy', metrics=['accuracy'])"
      ],
      "metadata": {
        "id": "lLyFPlc15Rb5"
      },
      "execution_count": 30,
      "outputs": []
    },
    {
      "cell_type": "code",
      "source": [
        "model.fit(np.array(train_x), np.array(train_y), epochs=100, batch_size=8, verbose=1)\n",
        "model.save(\"model.pkl\")"
      ],
      "metadata": {
        "colab": {
          "base_uri": "https://localhost:8080/"
        },
        "id": "UbUN-SYV-i1d",
        "outputId": "c6ca5d7c-3439-4bff-b4e8-49cbe654b3e6"
      },
      "execution_count": 31,
      "outputs": [
        {
          "output_type": "stream",
          "name": "stdout",
          "text": [
            "Epoch 1/100\n",
            "176/176 [==============================] - 4s 2ms/step - loss: 1.6494 - accuracy: 0.5392\n",
            "Epoch 2/100\n",
            "176/176 [==============================] - 0s 2ms/step - loss: 0.7165 - accuracy: 0.9252\n",
            "Epoch 3/100\n",
            "176/176 [==============================] - 0s 2ms/step - loss: 0.2295 - accuracy: 0.9929\n",
            "Epoch 4/100\n",
            "176/176 [==============================] - 0s 2ms/step - loss: 0.0740 - accuracy: 1.0000\n",
            "Epoch 5/100\n",
            "176/176 [==============================] - 0s 2ms/step - loss: 0.0312 - accuracy: 1.0000\n",
            "Epoch 6/100\n",
            "176/176 [==============================] - 0s 2ms/step - loss: 0.0168 - accuracy: 1.0000\n",
            "Epoch 7/100\n",
            "176/176 [==============================] - 0s 2ms/step - loss: 0.0105 - accuracy: 1.0000\n",
            "Epoch 8/100\n",
            "176/176 [==============================] - 0s 2ms/step - loss: 0.0071 - accuracy: 1.0000\n",
            "Epoch 9/100\n",
            "176/176 [==============================] - 0s 2ms/step - loss: 0.0051 - accuracy: 1.0000\n",
            "Epoch 10/100\n",
            "176/176 [==============================] - 0s 2ms/step - loss: 0.0038 - accuracy: 1.0000\n",
            "Epoch 11/100\n",
            "176/176 [==============================] - 0s 2ms/step - loss: 0.0030 - accuracy: 1.0000\n",
            "Epoch 12/100\n",
            "176/176 [==============================] - 0s 2ms/step - loss: 0.0023 - accuracy: 1.0000\n",
            "Epoch 13/100\n",
            "176/176 [==============================] - 1s 3ms/step - loss: 0.0019 - accuracy: 1.0000\n",
            "Epoch 14/100\n",
            "176/176 [==============================] - 1s 3ms/step - loss: 0.0015 - accuracy: 1.0000\n",
            "Epoch 15/100\n",
            "176/176 [==============================] - 1s 3ms/step - loss: 0.0013 - accuracy: 1.0000\n",
            "Epoch 16/100\n",
            "176/176 [==============================] - 1s 3ms/step - loss: 0.0011 - accuracy: 1.0000\n",
            "Epoch 17/100\n",
            "176/176 [==============================] - 0s 3ms/step - loss: 9.0105e-04 - accuracy: 1.0000\n",
            "Epoch 18/100\n",
            "176/176 [==============================] - 0s 2ms/step - loss: 7.6635e-04 - accuracy: 1.0000\n",
            "Epoch 19/100\n",
            "176/176 [==============================] - 0s 2ms/step - loss: 6.5631e-04 - accuracy: 1.0000\n",
            "Epoch 20/100\n",
            "176/176 [==============================] - 0s 2ms/step - loss: 5.6505e-04 - accuracy: 1.0000\n",
            "Epoch 21/100\n",
            "176/176 [==============================] - 0s 2ms/step - loss: 4.8877e-04 - accuracy: 1.0000\n",
            "Epoch 22/100\n",
            "176/176 [==============================] - 0s 2ms/step - loss: 4.2459e-04 - accuracy: 1.0000\n",
            "Epoch 23/100\n",
            "176/176 [==============================] - 0s 2ms/step - loss: 3.7034e-04 - accuracy: 1.0000\n",
            "Epoch 24/100\n",
            "176/176 [==============================] - 0s 2ms/step - loss: 3.2412e-04 - accuracy: 1.0000\n",
            "Epoch 25/100\n",
            "176/176 [==============================] - 0s 2ms/step - loss: 2.8452e-04 - accuracy: 1.0000\n",
            "Epoch 26/100\n",
            "176/176 [==============================] - 0s 2ms/step - loss: 2.5044e-04 - accuracy: 1.0000\n",
            "Epoch 27/100\n",
            "176/176 [==============================] - 0s 2ms/step - loss: 2.2095e-04 - accuracy: 1.0000\n",
            "Epoch 28/100\n",
            "176/176 [==============================] - 0s 2ms/step - loss: 1.9543e-04 - accuracy: 1.0000\n",
            "Epoch 29/100\n",
            "176/176 [==============================] - 0s 2ms/step - loss: 1.7316e-04 - accuracy: 1.0000\n",
            "Epoch 30/100\n",
            "176/176 [==============================] - 0s 2ms/step - loss: 1.5372e-04 - accuracy: 1.0000\n",
            "Epoch 31/100\n",
            "176/176 [==============================] - 0s 2ms/step - loss: 1.3668e-04 - accuracy: 1.0000\n",
            "Epoch 32/100\n",
            "176/176 [==============================] - 0s 2ms/step - loss: 1.2170e-04 - accuracy: 1.0000\n",
            "Epoch 33/100\n",
            "176/176 [==============================] - 0s 3ms/step - loss: 1.0852e-04 - accuracy: 1.0000\n",
            "Epoch 34/100\n",
            "176/176 [==============================] - 0s 2ms/step - loss: 9.6869e-05 - accuracy: 1.0000\n",
            "Epoch 35/100\n",
            "176/176 [==============================] - 0s 2ms/step - loss: 8.6570e-05 - accuracy: 1.0000\n",
            "Epoch 36/100\n",
            "176/176 [==============================] - 0s 2ms/step - loss: 7.7426e-05 - accuracy: 1.0000\n",
            "Epoch 37/100\n",
            "176/176 [==============================] - 0s 2ms/step - loss: 6.9348e-05 - accuracy: 1.0000\n",
            "Epoch 38/100\n",
            "176/176 [==============================] - 0s 2ms/step - loss: 6.2156e-05 - accuracy: 1.0000\n",
            "Epoch 39/100\n",
            "176/176 [==============================] - 0s 2ms/step - loss: 5.5781e-05 - accuracy: 1.0000\n",
            "Epoch 40/100\n",
            "176/176 [==============================] - 0s 2ms/step - loss: 5.0057e-05 - accuracy: 1.0000\n",
            "Epoch 41/100\n",
            "176/176 [==============================] - 0s 2ms/step - loss: 4.4960e-05 - accuracy: 1.0000\n",
            "Epoch 42/100\n",
            "176/176 [==============================] - 0s 2ms/step - loss: 4.0412e-05 - accuracy: 1.0000\n",
            "Epoch 43/100\n",
            "176/176 [==============================] - 0s 2ms/step - loss: 3.6356e-05 - accuracy: 1.0000\n",
            "Epoch 44/100\n",
            "176/176 [==============================] - 0s 2ms/step - loss: 3.2718e-05 - accuracy: 1.0000\n",
            "Epoch 45/100\n",
            "176/176 [==============================] - 1s 3ms/step - loss: 2.9449e-05 - accuracy: 1.0000\n",
            "Epoch 46/100\n",
            "176/176 [==============================] - 1s 3ms/step - loss: 2.6522e-05 - accuracy: 1.0000\n",
            "Epoch 47/100\n",
            "176/176 [==============================] - 1s 3ms/step - loss: 2.3900e-05 - accuracy: 1.0000\n",
            "Epoch 48/100\n",
            "176/176 [==============================] - 1s 3ms/step - loss: 2.1544e-05 - accuracy: 1.0000\n",
            "Epoch 49/100\n",
            "176/176 [==============================] - 1s 3ms/step - loss: 1.9430e-05 - accuracy: 1.0000\n",
            "Epoch 50/100\n",
            "176/176 [==============================] - 0s 2ms/step - loss: 1.7528e-05 - accuracy: 1.0000\n",
            "Epoch 51/100\n",
            "176/176 [==============================] - 0s 2ms/step - loss: 1.5821e-05 - accuracy: 1.0000\n",
            "Epoch 52/100\n",
            "176/176 [==============================] - 0s 2ms/step - loss: 1.4286e-05 - accuracy: 1.0000\n",
            "Epoch 53/100\n",
            "176/176 [==============================] - 0s 2ms/step - loss: 1.2896e-05 - accuracy: 1.0000\n",
            "Epoch 54/100\n",
            "176/176 [==============================] - 0s 2ms/step - loss: 1.1645e-05 - accuracy: 1.0000\n",
            "Epoch 55/100\n",
            "176/176 [==============================] - 0s 2ms/step - loss: 1.0514e-05 - accuracy: 1.0000\n",
            "Epoch 56/100\n",
            "176/176 [==============================] - 0s 2ms/step - loss: 9.5001e-06 - accuracy: 1.0000\n",
            "Epoch 57/100\n",
            "176/176 [==============================] - 0s 2ms/step - loss: 8.5863e-06 - accuracy: 1.0000\n",
            "Epoch 58/100\n",
            "176/176 [==============================] - 0s 2ms/step - loss: 7.7712e-06 - accuracy: 1.0000\n",
            "Epoch 59/100\n",
            "176/176 [==============================] - 0s 2ms/step - loss: 7.0271e-06 - accuracy: 1.0000\n",
            "Epoch 60/100\n",
            "176/176 [==============================] - 0s 2ms/step - loss: 6.3535e-06 - accuracy: 1.0000\n",
            "Epoch 61/100\n",
            "176/176 [==============================] - 0s 2ms/step - loss: 5.7448e-06 - accuracy: 1.0000\n",
            "Epoch 62/100\n",
            "176/176 [==============================] - 0s 2ms/step - loss: 5.1966e-06 - accuracy: 1.0000\n",
            "Epoch 63/100\n",
            "176/176 [==============================] - 0s 2ms/step - loss: 4.7089e-06 - accuracy: 1.0000\n",
            "Epoch 64/100\n",
            "176/176 [==============================] - 0s 2ms/step - loss: 4.2494e-06 - accuracy: 1.0000\n",
            "Epoch 65/100\n",
            "176/176 [==============================] - 0s 2ms/step - loss: 3.8486e-06 - accuracy: 1.0000\n",
            "Epoch 66/100\n",
            "176/176 [==============================] - 0s 2ms/step - loss: 3.4891e-06 - accuracy: 1.0000\n",
            "Epoch 67/100\n",
            "176/176 [==============================] - 0s 2ms/step - loss: 3.1583e-06 - accuracy: 1.0000\n",
            "Epoch 68/100\n",
            "176/176 [==============================] - 0s 2ms/step - loss: 2.8635e-06 - accuracy: 1.0000\n",
            "Epoch 69/100\n",
            "176/176 [==============================] - 0s 2ms/step - loss: 2.5990e-06 - accuracy: 1.0000\n",
            "Epoch 70/100\n",
            "176/176 [==============================] - 0s 2ms/step - loss: 2.3424e-06 - accuracy: 1.0000\n",
            "Epoch 71/100\n",
            "176/176 [==============================] - 0s 2ms/step - loss: 2.1174e-06 - accuracy: 1.0000\n",
            "Epoch 72/100\n",
            "176/176 [==============================] - 0s 2ms/step - loss: 1.9257e-06 - accuracy: 1.0000\n",
            "Epoch 73/100\n",
            "176/176 [==============================] - 0s 2ms/step - loss: 1.7307e-06 - accuracy: 1.0000\n",
            "Epoch 74/100\n",
            "176/176 [==============================] - 0s 2ms/step - loss: 1.5676e-06 - accuracy: 1.0000\n",
            "Epoch 75/100\n",
            "176/176 [==============================] - 0s 2ms/step - loss: 1.4205e-06 - accuracy: 1.0000\n",
            "Epoch 76/100\n",
            "176/176 [==============================] - 0s 2ms/step - loss: 1.2992e-06 - accuracy: 1.0000\n",
            "Epoch 77/100\n",
            "176/176 [==============================] - 0s 3ms/step - loss: 1.1755e-06 - accuracy: 1.0000\n",
            "Epoch 78/100\n",
            "176/176 [==============================] - 1s 3ms/step - loss: 1.0647e-06 - accuracy: 1.0000\n",
            "Epoch 79/100\n",
            "176/176 [==============================] - 1s 3ms/step - loss: 9.7575e-07 - accuracy: 1.0000\n",
            "Epoch 80/100\n",
            "176/176 [==============================] - 1s 3ms/step - loss: 8.8346e-07 - accuracy: 1.0000\n",
            "Epoch 81/100\n",
            "176/176 [==============================] - 0s 3ms/step - loss: 8.0152e-07 - accuracy: 1.0000\n",
            "Epoch 82/100\n",
            "176/176 [==============================] - 1s 3ms/step - loss: 7.2944e-07 - accuracy: 1.0000\n",
            "Epoch 83/100\n",
            "176/176 [==============================] - 0s 2ms/step - loss: 6.5090e-07 - accuracy: 1.0000\n",
            "Epoch 84/100\n",
            "176/176 [==============================] - 0s 2ms/step - loss: 5.7991e-07 - accuracy: 1.0000\n",
            "Epoch 85/100\n",
            "176/176 [==============================] - 0s 2ms/step - loss: 5.3126e-07 - accuracy: 1.0000\n",
            "Epoch 86/100\n",
            "176/176 [==============================] - 0s 2ms/step - loss: 4.8108e-07 - accuracy: 1.0000\n",
            "Epoch 87/100\n",
            "176/176 [==============================] - 0s 2ms/step - loss: 4.3973e-07 - accuracy: 1.0000\n",
            "Epoch 88/100\n",
            "176/176 [==============================] - 0s 2ms/step - loss: 3.9397e-07 - accuracy: 1.0000\n",
            "Epoch 89/100\n",
            "176/176 [==============================] - 0s 2ms/step - loss: 3.4515e-07 - accuracy: 1.0000\n",
            "Epoch 90/100\n",
            "176/176 [==============================] - 0s 2ms/step - loss: 3.1883e-07 - accuracy: 1.0000\n",
            "Epoch 91/100\n",
            "176/176 [==============================] - 0s 2ms/step - loss: 2.8775e-07 - accuracy: 1.0000\n",
            "Epoch 92/100\n",
            "176/176 [==============================] - 0s 2ms/step - loss: 2.6559e-07 - accuracy: 1.0000\n",
            "Epoch 93/100\n",
            "176/176 [==============================] - 0s 2ms/step - loss: 2.3434e-07 - accuracy: 1.0000\n",
            "Epoch 94/100\n",
            "176/176 [==============================] - 0s 2ms/step - loss: 2.1592e-07 - accuracy: 1.0000\n",
            "Epoch 95/100\n",
            "176/176 [==============================] - 0s 2ms/step - loss: 2.0055e-07 - accuracy: 1.0000\n",
            "Epoch 96/100\n",
            "176/176 [==============================] - 0s 2ms/step - loss: 1.8238e-07 - accuracy: 1.0000\n",
            "Epoch 97/100\n",
            "176/176 [==============================] - 0s 2ms/step - loss: 1.6557e-07 - accuracy: 1.0000\n",
            "Epoch 98/100\n",
            "176/176 [==============================] - 0s 2ms/step - loss: 1.3967e-07 - accuracy: 1.0000\n",
            "Epoch 99/100\n",
            "176/176 [==============================] - 0s 2ms/step - loss: 1.1811e-07 - accuracy: 1.0000\n",
            "Epoch 100/100\n",
            "176/176 [==============================] - 0s 2ms/step - loss: 1.0469e-07 - accuracy: 1.0000\n"
          ]
        },
        {
          "output_type": "stream",
          "name": "stderr",
          "text": [
            "WARNING:absl:Found untraced functions such as _update_step_xla while saving (showing 1 of 1). These functions will not be directly callable after loading.\n"
          ]
        }
      ]
    },
    {
      "cell_type": "code",
      "source": [
        "import pickle\n",
        "pickle.dump( {'words':words, 'classes':classes}, open( \"training_data\", \"wb\" ) )"
      ],
      "metadata": {
        "id": "MbAdfRgf_Ff9"
      },
      "execution_count": 32,
      "outputs": []
    },
    {
      "cell_type": "code",
      "source": [
        "from keras.models import load_model\n",
        "model = load_model(\"model.pkl\")"
      ],
      "metadata": {
        "id": "aR2EaUfHAEd-"
      },
      "execution_count": 33,
      "outputs": []
    },
    {
      "cell_type": "code",
      "source": [
        "def clean_up_sentence(sentence):\n",
        "  sentence_words = nltk.word_tokenize(sentence)\n",
        "  sentence_words = [stemmer.stem(word.lower()) for word in sentence_words]\n",
        "  return sentence_words\n",
        "def bow(sentence, words):\n",
        "  sentence_words = clean_up_sentence (sentence)\n",
        "  bag = [0]*len(words)\n",
        "  for s in sentence_words:\n",
        "    for i,w in enumerate(words):\n",
        "      if w ==s:\n",
        "        bag[i] = 1\n",
        "  bag=np.array(bag)\n",
        "  return(bag)"
      ],
      "metadata": {
        "id": "xxB8HRmNB8sw"
      },
      "execution_count": 34,
      "outputs": []
    },
    {
      "cell_type": "code",
      "source": [
        "ERROR_THRESHOLD = 0.30\n",
        "def classify(sentence): \n",
        "  bag = bow(sentence, words)\n",
        "  results = model.predict(np.array([bag]))\n",
        "  results = [[i,r] for i,r in enumerate(results[0]) if r>ERROR_THRESHOLD]\n",
        "  results.sort(key=lambda x: x[1], reverse=True)\n",
        "  return_list = []\n",
        "  for r in results:\n",
        "    return_list.append((classes[r[0]], r[1]))\n",
        "    return return_list\n",
        "def response(sentence):\n",
        "  results = classify(sentence)\n",
        "  if results:\n",
        "    while results:\n",
        "      for i in intents['intents']:\n",
        "        if i['tag'] == results[0][0]: \n",
        "             return print(random.choice(i[\"responses\"]))\n",
        "      results.pop(0)"
      ],
      "metadata": {
        "id": "umHtpJfzEGJC"
      },
      "execution_count": 37,
      "outputs": []
    },
    {
      "cell_type": "code",
      "source": [
        "response('Where are you located?')"
      ],
      "metadata": {
        "colab": {
          "base_uri": "https://localhost:8080/"
        },
        "id": "OsX9irZmGScy",
        "outputId": "87382b64-6c94-4c61-d23a-3623118041c2"
      },
      "execution_count": 38,
      "outputs": [
        {
          "output_type": "stream",
          "name": "stdout",
          "text": [
            "1/1 [==============================] - 0s 194ms/step\n",
            "You can visit India to meet us\n"
          ]
        }
      ]
    },
    {
      "cell_type": "code",
      "source": [
        "response('Bye')"
      ],
      "metadata": {
        "colab": {
          "base_uri": "https://localhost:8080/"
        },
        "id": "XkmcosB7GtIU",
        "outputId": "0b16c8ce-2a08-4fe7-8311-10e549cb6647"
      },
      "execution_count": 39,
      "outputs": [
        {
          "output_type": "stream",
          "name": "stdout",
          "text": [
            "1/1 [==============================] - 0s 48ms/step\n",
            "See you later, thanks for visiting\n"
          ]
        }
      ]
    },
    {
      "cell_type": "code",
      "source": [],
      "metadata": {
        "id": "D28nktEuHVGk"
      },
      "execution_count": null,
      "outputs": []
    }
  ]
}